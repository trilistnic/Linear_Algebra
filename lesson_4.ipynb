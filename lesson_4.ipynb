{
 "cells": [
  {
   "cell_type": "code",
   "execution_count": 1,
   "id": "392b18d8",
   "metadata": {},
   "outputs": [],
   "source": [
    "import numpy as np"
   ]
  },
  {
   "cell_type": "markdown",
   "id": "82259880",
   "metadata": {},
   "source": [
    "### 1.1 Решить систему уравнений методом Гаусса:\n",
    "\n",
    "$\\begin{cases}\n",
    "x_{1}+x_{2}-x_{3}-2x_{4}=0 \\\\\n",
    "2x_{1}+x_{2}-x_{3}+x_{4}=-2 \\\\\n",
    "x_{1}+x_{2}-3x_{3}+x_{4}=4\n",
    "\\end{cases}$"
   ]
  },
  {
   "cell_type": "markdown",
   "id": "b431cb20",
   "metadata": {},
   "source": [
    "Запишем расширенную матрицу системы:\n",
    "\n",
    "$\\begin{pmatrix}\n",
    "\\left.\\begin{matrix}\n",
    "1 & 1 & -1 & -2 \\\\ \n",
    "2 & 1 & -1 & 1 \\\\ \n",
    "1 & 1 & -3 & 1\n",
    "\\end{matrix}\\right|\n",
    "\\begin{matrix}\n",
    "0\\\\ \n",
    "-2\\\\\n",
    "4\n",
    "\\end{matrix}\n",
    "\\end{pmatrix}$\n",
    "\n",
    "Вычтем из второй строки первую, умноженную на 2:\n",
    "\n",
    "$\\begin{pmatrix}\n",
    "\\left.\\begin{matrix}\n",
    "1 & 1 & -1 & -2 \\\\ \n",
    "0 & -1 & 1 & 5 \\\\ \n",
    "1 & 1 & -3 & 1\n",
    "\\end{matrix}\\right|\n",
    "\\begin{matrix}\n",
    "0\\\\ \n",
    "-2\\\\\n",
    "4\n",
    "\\end{matrix}\n",
    "\\end{pmatrix}$\n",
    "\n",
    "Вычтем из третьей строки первую:\n",
    "\n",
    "$\\begin{pmatrix}\n",
    "\\left.\\begin{matrix}\n",
    "1 & 1 & -1 & -2 \\\\ \n",
    "0 & -1 & 1 & 5 \\\\ \n",
    "0 & 0 & -2 & 3\n",
    "\\end{matrix}\\right|\n",
    "\\begin{matrix}\n",
    "0\\\\ \n",
    "-2\\\\\n",
    "4\n",
    "\\end{matrix}\n",
    "\\end{pmatrix}$\n",
    "\n",
    "n = 4<br>\n",
    "Ранги матрицы и расширенной матрицы = 3<br>\n",
    "Таким образом СЛАУ имеет бесконечное множество решений по теореме Кронекера — Капелли."
   ]
  },
  {
   "cell_type": "markdown",
   "id": "5ebfa7f8",
   "metadata": {},
   "source": [
    "$\\begin{cases}\n",
    "x_{1}+x_{2}-x_{3}-2x_{4}=0 \\\\\n",
    "-x_{2}+x_{3}+5x_{4}=-2 \\\\\n",
    "-2x_{3}+3x_{4}=4\n",
    "\\end{cases}$\n",
    "\n",
    "$x_{4}=c$\n",
    "\n",
    "$x_{3}=\\frac{3}{2}c - 2$\n",
    "\n",
    "$x_{2}=\\frac{13}{2}c$\n",
    "\n",
    "$x_{1}=-3c-2$"
   ]
  },
  {
   "cell_type": "markdown",
   "id": "d210d683",
   "metadata": {},
   "source": [
    "### 1.2 Проверить на совместность и выяснить, сколько решений будет иметь система линейных уравнений:\n",
    "\n",
    "   а) $\\begin{cases}\n",
    "3x_{1}-x_{2}+x_{3}=4 \\\\\n",
    "2x_{1}-5x_{2}-3x_{3}=-17 \\\\\n",
    "x_{1}+x_{2}-x_{3}=0\n",
    "\\end{cases}$\n",
    "    \n",
    "   б) $\\begin{cases}\n",
    "2x_{1}-4x_{2}+6x_{3}=1 \\\\\n",
    "x_{1}-2x_{2}+3x_{3}=-2 \\\\\n",
    "3x_{1}-6x_{2}+9x_{3}=5\n",
    "\\end{cases}$\n",
    "    \n",
    "   в) $\\begin{cases}\n",
    "x_{1}+2x_{2}+5x_{3}=4 \\\\\n",
    "3x_{1}+x_{2}-8x_{3}=-2 \n",
    "\\end{cases}$"
   ]
  },
  {
   "cell_type": "code",
   "execution_count": 156,
   "id": "8dc60d91",
   "metadata": {},
   "outputs": [],
   "source": [
    "def compatibility(A_ext):\n",
    "    rank_A_ext = np.linalg.matrix_rank(A_ext)\n",
    "    A = []\n",
    "    for i in A_ext:\n",
    "        A.append(i[0:(len(i) - 1)])\n",
    "    rank_A = np.linalg.matrix_rank(A)\n",
    "    \n",
    "    if  rank_A == rank_A_ext == len(A[0]):\n",
    "        return 'Cистема совместная с единственным решением'\n",
    "    elif rank_A == rank_A_ext and rank_A < len(A[0]):\n",
    "        return 'Cистема совместная с бесконечным количеством решений'\n",
    "    elif rank_A < rank_A_ext:\n",
    "        return 'Cистема несовместная'"
   ]
  },
  {
   "cell_type": "code",
   "execution_count": 52,
   "id": "4eb78053",
   "metadata": {},
   "outputs": [
    {
     "data": {
      "text/plain": [
       "'Cистема совместная с единственным решением'"
      ]
     },
     "execution_count": 52,
     "metadata": {},
     "output_type": "execute_result"
    }
   ],
   "source": [
    "A = np.array([[3, -1, 1, 4], [2, -5, -3, -17], [1, 1, -1, 0]])\n",
    "compatibility(A)"
   ]
  },
  {
   "cell_type": "code",
   "execution_count": 158,
   "id": "aca35f9a",
   "metadata": {},
   "outputs": [
    {
     "data": {
      "text/plain": [
       "'Cистема несовместная'"
      ]
     },
     "execution_count": 158,
     "metadata": {},
     "output_type": "execute_result"
    }
   ],
   "source": [
    "A = np.array([[2, -4, 6, 1], [1, -2, 3, -2], [3, -6, 9, 5]])\n",
    "compatibility(A)"
   ]
  },
  {
   "cell_type": "code",
   "execution_count": 157,
   "id": "5d0359a0",
   "metadata": {},
   "outputs": [
    {
     "data": {
      "text/plain": [
       "'Cистема совместная с бесконечным количеством решений'"
      ]
     },
     "execution_count": 157,
     "metadata": {},
     "output_type": "execute_result"
    }
   ],
   "source": [
    "A = np.array([[1, 2, 5, 4], [3, 1, -8, -2]])\n",
    "compatibility(A)"
   ]
  },
  {
   "cell_type": "markdown",
   "id": "1f2440f2",
   "metadata": {},
   "source": [
    "### 1.3 Проверить на совместность и выяснить, сколько решений будет иметь система линейных уравнений, заданная расширенной матрицей\n",
    "\n",
    "$\\tilde{A}=\\begin{pmatrix}\n",
    "\\left.\\begin{matrix}\n",
    "1 & 3 & -2 & 4\\\\ \n",
    "0 & 5 & 0 & 1\\\\ \n",
    "0 & 0 & 3 & 0\\\\ \n",
    "0 & 0 & 0 & 2\n",
    "\\end{matrix}\\right|\n",
    "\\begin{matrix}\n",
    "3\\\\ \n",
    "2\\\\\n",
    "4\\\\\n",
    "1\n",
    "\\end{matrix}\n",
    "\\end{pmatrix}$"
   ]
  },
  {
   "cell_type": "code",
   "execution_count": 55,
   "id": "94fcfe07",
   "metadata": {},
   "outputs": [
    {
     "data": {
      "text/plain": [
       "'Cистема совместная с единственным решением'"
      ]
     },
     "execution_count": 55,
     "metadata": {},
     "output_type": "execute_result"
    }
   ],
   "source": [
    "A = np.array([[1, 3, -2, 4, 3], [0, 5, 0, 1, 2], [0, 0, 3, 0, 4], [0, 0, 0, 2, 1]])\n",
    "compatibility(A)"
   ]
  },
  {
   "cell_type": "markdown",
   "id": "30897fbb",
   "metadata": {},
   "source": [
    "$x_{4}=\\frac{1}{2}$\n",
    "\n",
    "$x_{3}=\\frac{4}{3}$\n",
    "\n",
    "$x_{2}=\\frac{3}{10}$\n",
    "\n",
    "$x_{1}=\\frac{83}{30}$"
   ]
  },
  {
   "cell_type": "markdown",
   "id": "56693364",
   "metadata": {},
   "source": [
    "### 1.4 Дана система линейных уравнений, заданная расширенной матрицей\n",
    "\n",
    "$\\tilde{A}=\\begin{pmatrix}\n",
    "\\left.\\begin{matrix}\n",
    "1 & 2 & 3\\\\ \n",
    "4 & 5 & 6\\\\ \n",
    "7 & 8 & 9\n",
    "\\end{matrix}\\right|\n",
    "\\begin{matrix}\n",
    "a\\\\ \n",
    "b\\\\\n",
    "c\n",
    "\\end{matrix}\n",
    "\\end{pmatrix}$\n",
    "\n",
    "Найти соотношение между параметрами $a$, $b$ и $c$, при которых система является несовместной."
   ]
  },
  {
   "cell_type": "markdown",
   "id": "c67762f8",
   "metadata": {},
   "source": [
    "Из третьей строки вычтем 3 раза первую строку, а из второй 2 раза первую:\n",
    "\n",
    "$\\begin{pmatrix}\n",
    "\\left.\\begin{matrix}\n",
    "1 & 2 & 3\\\\ \n",
    "2 & 1 & 0\\\\ \n",
    "4 & 2 & 0\n",
    "\\end{matrix}\\right|\n",
    "\\begin{matrix}\n",
    "a\\\\ \n",
    "b-2a\\\\\n",
    "c-3a\n",
    "\\end{matrix}\n",
    "\\end{pmatrix}$\n",
    "\n",
    "Из третьей строки вычтем 2 раза вторую строку\n",
    "\n",
    "$\\begin{pmatrix}\n",
    "\\left.\\begin{matrix}\n",
    "1 & 2 & 3\\\\ \n",
    "2 & 1 & 0\\\\ \n",
    "0 & 0 & 0\n",
    "\\end{matrix}\\right|\n",
    "\\begin{matrix}\n",
    "a\\\\ \n",
    "b-2a\\\\\n",
    "c-3a-2b+4a\n",
    "\\end{matrix}\n",
    "\\end{pmatrix}$"
   ]
  },
  {
   "cell_type": "markdown",
   "id": "bc4066ab",
   "metadata": {},
   "source": [
    "По теорема Кронекера — Капелли:\n",
    "\n",
    "если $rankA<rank \\tilde A$, то система несовместна\n",
    "\n",
    "=> При $c+a-2b\\neq0$ система несовместная."
   ]
  },
  {
   "cell_type": "markdown",
   "id": "f0e056d0",
   "metadata": {},
   "source": [
    "### 2.1 Решить систему уравнений методом Крамера:\n",
    "\n",
    "   а) $\\begin{cases}\n",
    "x_{1}-2x_{2}=1 \\\\\n",
    "3x_{1}-4x_{2}=7\n",
    "\\end{cases}$\n",
    "    \n",
    "   б) $\\begin{cases}\n",
    "2x_{1}-x_{2}+5x_{3}=10 \\\\\n",
    "x_{1}+x_{2}-3x_{3}=-2 \\\\\n",
    "2x_{1}+4x_{2}+x_{3}=1\n",
    "\\end{cases}$"
   ]
  },
  {
   "cell_type": "code",
   "execution_count": 177,
   "id": "eba3f18f",
   "metadata": {},
   "outputs": [],
   "source": [
    "def kramer(A,b):\n",
    "    if len(A) == len(A[0]):\n",
    "        if np.linalg.det(A) != 0:\n",
    "            for i in range(len(A[0])):\n",
    "                C = A.copy()\n",
    "                C[:, i] = b\n",
    "                print(f'x{i + 1} = {round(np.linalg.det(C) / np.linalg.det(A), 2)}')\n",
    "        else:\n",
    "            print(f'Система не имеет решений')\n",
    "    else:\n",
    "        print(f'Система не определена')"
   ]
  },
  {
   "cell_type": "code",
   "execution_count": 178,
   "id": "a77a4f98",
   "metadata": {},
   "outputs": [
    {
     "name": "stdout",
     "output_type": "stream",
     "text": [
      "x1 = 5.0\n",
      "x2 = 2.0\n"
     ]
    }
   ],
   "source": [
    "A = np.array([[1, -2], [3, -4]])\n",
    "b = [1, 7]\n",
    "kramer(A,b)"
   ]
  },
  {
   "cell_type": "code",
   "execution_count": 179,
   "id": "e6c0e767",
   "metadata": {},
   "outputs": [
    {
     "name": "stdout",
     "output_type": "stream",
     "text": [
      "x1 = 2.0\n",
      "x2 = -1.0\n",
      "x3 = 1.0\n"
     ]
    }
   ],
   "source": [
    "A = np.array([[2, -1, 5], [1, 1, -3], [2, 4, 1]])\n",
    "b = [10, -2, 1]\n",
    "kramer(A,b)"
   ]
  },
  {
   "cell_type": "markdown",
   "id": "5c549181",
   "metadata": {},
   "source": [
    "### 2.2 Найти $L$-матрицу $LU$-разложения для матрицы коэффициентов:\n",
    "\n",
    "   а)$\\begin{pmatrix}\n",
    "1 & 2 & 4 \\\\ \n",
    "2 & 9 & 12 \\\\ \n",
    "3 & 26 & 30\n",
    "\\end{pmatrix}$\n",
    "    \n",
    "   б)$\\begin{pmatrix}\n",
    "1 & 1 & 2 & 4\\\\ \n",
    "2 & 5 & 8 & 9\\\\ \n",
    "3 & 18 & 29 & 18\\\\\n",
    "4 & 22 & 53 & 33\n",
    "\\end{pmatrix}$"
   ]
  },
  {
   "cell_type": "markdown",
   "id": "83d53b01",
   "metadata": {},
   "source": [
    "a) Вычтем из второй строки 2 раза первую и из третьей 3 раза первую\n",
    "\n",
    "U=$\\begin{pmatrix}\n",
    "1 & 2 & 4 \\\\ \n",
    "0 & 5 & 4 \\\\ \n",
    "0 & 20 & 18\n",
    "\\end{pmatrix}$\n",
    "\n",
    "L=$\\begin{pmatrix}\n",
    "1 & 0 & 0 \\\\ \n",
    "2 & 1 & 0 \\\\ \n",
    "3 &  & 1\n",
    "\\end{pmatrix}$\n",
    "\n",
    "Вычтем из третей строки 4 раза вторую\n",
    "\n",
    "U=$\\begin{pmatrix}\n",
    "1 & 2 & 4 \\\\ \n",
    "0 & 5 & 4 \\\\ \n",
    "0 & 0 & 2\n",
    "\\end{pmatrix}$\n",
    "\n",
    "L=$\\begin{pmatrix}\n",
    "1 & 0 & 0 \\\\ \n",
    "2 & 1 & 0 \\\\ \n",
    "3 & 4 & 1\n",
    "\\end{pmatrix}$"
   ]
  },
  {
   "cell_type": "markdown",
   "id": "4d0903e4",
   "metadata": {},
   "source": [
    "б)\n",
    "\n",
    "Вычтем из второй строки 2 раза первую, из третьей 3 раза первую, а из четвертой 4 раза первую\n",
    "\n",
    "U=$\\begin{pmatrix}\n",
    "1 & 1 & 2 & 4 \\\\ \n",
    "0 & 3 & 4 & 1 \\\\ \n",
    "0 & 15 & 23 & 6 \\\\\n",
    "0 & 18 & 45 & 17\n",
    "\\end{pmatrix}$\n",
    "\n",
    "L=$\\begin{pmatrix}\n",
    "1 & 0 & 0 & 0 \\\\ \n",
    "2 & 1 & 0 & 0 \\\\ \n",
    "3 &  & 1 & 0 \\\\\n",
    "4 &  &  & 1\n",
    "\\end{pmatrix}$\n",
    "\n",
    "Вычтем из третей строки 5 раз вторую и из четвертой 6 раз вторую\n",
    "\n",
    "U=$\\begin{pmatrix}\n",
    "1 & 1 & 2 & 4 \\\\ \n",
    "0 & 3 & 4 & 1 \\\\ \n",
    "0 & 0 & 3 & 1 \\\\\n",
    "0 & 0 & 21 & 11\n",
    "\\end{pmatrix}$\n",
    "\n",
    "L=$\\begin{pmatrix}\n",
    "1 & 0 & 0 & 0 \\\\ \n",
    "2 & 1 & 0 & 0 \\\\ \n",
    "3 & 5 & 1 & 0 \\\\\n",
    "4 & 6 &  & 1\n",
    "\\end{pmatrix}$\n",
    "\n",
    "Вычтем из четвертой строки 7 раз третью\n",
    "\n",
    "U=$\\begin{pmatrix}\n",
    "1 & 1 & 2 & 4 \\\\ \n",
    "0 & 3 & 4 & 1 \\\\ \n",
    "0 & 0 & 3 & 1 \\\\\n",
    "0 & 0 & 0 & 4\n",
    "\\end{pmatrix}$\n",
    "\n",
    "L=$\\begin{pmatrix}\n",
    "1 & 0 & 0 & 0 \\\\ \n",
    "2 & 1 & 0 & 0 \\\\ \n",
    "3 & 5 & 1 & 0 \\\\\n",
    "4 & 6 & 7 & 1\n",
    "\\end{pmatrix}$"
   ]
  },
  {
   "cell_type": "markdown",
   "id": "ffc1c74d",
   "metadata": {},
   "source": [
    "### 2.3 Решить систему линейных уравнений методом $LU$-разложения\n",
    "\n",
    "$\\begin{cases}\n",
    "2x_{1}+x_{2}+3x_{3}=1 \\\\\n",
    "11x_{1}+7x_{2}+5x_{3}=-6 \\\\\n",
    "9x_{1}+8x_{2}+4x_{3}=-5\n",
    "\\end{cases}$"
   ]
  },
  {
   "cell_type": "markdown",
   "id": "a561e28e",
   "metadata": {},
   "source": [
    "Вычтем из второй строки $\\frac{11}{2}$ первой и из третьей $\\frac{9}{2}$ первой\n",
    "\n",
    "U=$\\begin{pmatrix}\n",
    "2 & 1 & 3 \\\\ \n",
    "0 & \\frac{3}{2} & -\\frac{23}{2} \\\\ \n",
    "0 & \\frac{7}{2} & -\\frac{19}{2}\n",
    "\\end{pmatrix}$\n",
    "\n",
    "L=$\\begin{pmatrix}\n",
    "1 & 0 & 0 \\\\ \n",
    "\\frac{11}{2} & 1 & 0 \\\\ \n",
    "\\frac{9}{2} &  & 1\n",
    "\\end{pmatrix}$\n",
    "\n",
    "Вычтем из третьей строки $\\frac{7}{3}$ второй\n",
    "\n",
    "U=$\\begin{pmatrix}\n",
    "2 & 1 & 3 \\\\ \n",
    "0 & \\frac{3}{2} & -\\frac{23}{2} \\\\ \n",
    "0 & 0 & \\frac{52}{3}\n",
    "\\end{pmatrix}$\n",
    "\n",
    "L=$\\begin{pmatrix}\n",
    "1 & 0 & 0 \\\\ \n",
    "\\frac{11}{2} & 1 & 0 \\\\ \n",
    "\\frac{9}{2} & \\frac{7}{3} & 1\n",
    "\\end{pmatrix}$"
   ]
  },
  {
   "cell_type": "markdown",
   "id": "83917b6e",
   "metadata": {},
   "source": [
    "$\\begin{cases}\n",
    "y_{1}=1 \\\\\n",
    "\\frac{11}{2}y_{1}+y_{2}=-6 \\\\\n",
    "\\frac{9}{2}y_{1}+\\frac{7}{3}y_{2}+y_{3}=-5\n",
    "\\end{cases}$\n",
    "\n",
    "$y_{1}=1$\n",
    "\n",
    "$y_{2}=-\\frac{23}{2}$\n",
    "\n",
    "$y_{3}=\\frac{52}{3}$"
   ]
  },
  {
   "cell_type": "markdown",
   "id": "51b0ccbb",
   "metadata": {},
   "source": [
    "$\\begin{cases}\n",
    "2x_{1}+x_{2}+3x_{3}=1 \\\\\n",
    "\\frac{3}{2}x_{2}-\\frac{23}{2}x_{3}=-\\frac{23}{2} \\\\\n",
    "\\frac{52}{3}x_{3}=\\frac{52}{3}\n",
    "\\end{cases}$\n",
    "\n",
    "$x_{1}=-1$\n",
    "\n",
    "$x_{2}=0$\n",
    "\n",
    "$x_{3}=1$"
   ]
  },
  {
   "cell_type": "markdown",
   "id": "54e70da1",
   "metadata": {},
   "source": [
    "### 2.4 Решить систему линейных уравнений методом Холецкого\n",
    "\n",
    "$\\begin{cases}\n",
    "81x_{1}-45x_{2}+45x_{3}=531 \\\\\n",
    "-45x_{1}+50x_{2}-15x_{3}=-460 \\\\\n",
    "45x_{1}-15x_{2}+38x_{3}=193\n",
    "\\end{cases}$"
   ]
  },
  {
   "cell_type": "markdown",
   "id": "2186b3d9",
   "metadata": {},
   "source": [
    "Произведем разложение на $LL^{T}$:\n",
    "\n",
    "$l_{11}=\\sqrt{a_{11}}=9$\n",
    "\n",
    "$l_{21}=\\frac{a_{21}}{l_{11}}=-5$\n",
    "\n",
    "$l_{31}=\\frac{a_{31}}{l_{11}}=5$\n",
    "\n",
    "$l_{22}=\\sqrt{a_{22}-l_{21}^{2}}=5$\n",
    "\n",
    "$l_{32}=\\frac{1}{l_{22}}\\left ( a_{32}-l_{21}l_{31} \\right)=2$\n",
    "\n",
    "$l_{33}=\\sqrt{a_{33}-l_{31}^{2}-l_{32}^{2}}=3$"
   ]
  },
  {
   "cell_type": "markdown",
   "id": "a16ccc5c",
   "metadata": {},
   "source": [
    "Получили матрицу \n",
    "\n",
    "$L = \\begin{pmatrix}\n",
    "9 & 0 & 0 \\\\ \n",
    "-5 & 5 & 0 \\\\ \n",
    "5 & 2 & 3\n",
    "\\end{pmatrix}, \n",
    "\\; \\; \n",
    "L^{T} = \\begin{pmatrix}\n",
    "9 & -5 & 5 \\\\ \n",
    "0 & 5 & 2 \\\\ \n",
    "0 & 0 & 3\n",
    "\\end{pmatrix}$"
   ]
  },
  {
   "cell_type": "markdown",
   "id": "ea074499",
   "metadata": {},
   "source": [
    "Решим систему $Ly=b:$\n",
    "\n",
    "$\\begin{cases}\n",
    "9y_{1}=531 \\\\\n",
    "-5y_{1}+5y_{2}=-460 \\\\\n",
    "5y_{1}+2y_{2}+3y_{3}=193\n",
    "\\end{cases}$\n",
    "\n",
    "$y_{1} = 59$\n",
    "\n",
    "$y_{2}=-33$\n",
    "\n",
    "$y_{3}=-12$"
   ]
  },
  {
   "cell_type": "markdown",
   "id": "a00c2a18",
   "metadata": {},
   "source": [
    "И решим систему $L^{T}x=y:$\n",
    "\n",
    "$\\begin{cases}\n",
    "9x_{1}-5x_{2}+5x_{3}=59 \\\\\n",
    "5x_{2}+2x_{3}=-33 \\\\\n",
    "3x_{3}=-12\n",
    "\\end{cases}$\n",
    "\n",
    "$x_{3}=-4$\n",
    "\n",
    "$x_{2}=-5$\n",
    "\n",
    "$x_{1}=6$"
   ]
  },
  {
   "cell_type": "markdown",
   "id": "d6666a84",
   "metadata": {},
   "source": [
    "### 2.5* Написать на Python программу с реализацией одного из изученных алгоритмов решения СЛАУ."
   ]
  },
  {
   "cell_type": "markdown",
   "id": "6b3a163a",
   "metadata": {},
   "source": [
    "Функция написана в пункте 2.1 для решения СЛАУ методом Крамера.\n",
    "\n",
    "Например, решим систему из прошлого задания:"
   ]
  },
  {
   "cell_type": "code",
   "execution_count": 184,
   "id": "9257c010",
   "metadata": {},
   "outputs": [
    {
     "name": "stdout",
     "output_type": "stream",
     "text": [
      "x1 = 6.0\n",
      "x2 = -5.0\n",
      "x3 = -4.0\n"
     ]
    }
   ],
   "source": [
    "A = np.array([[81, -45, 45], [-45, 50, -15], [45, -15, 38]])\n",
    "b = [531, -460, 193]\n",
    "kramer(A,b)"
   ]
  }
 ],
 "metadata": {
  "kernelspec": {
   "display_name": "Python 3 (ipykernel)",
   "language": "python",
   "name": "python3"
  },
  "language_info": {
   "codemirror_mode": {
    "name": "ipython",
    "version": 3
   },
   "file_extension": ".py",
   "mimetype": "text/x-python",
   "name": "python",
   "nbconvert_exporter": "python",
   "pygments_lexer": "ipython3",
   "version": "3.9.7"
  }
 },
 "nbformat": 4,
 "nbformat_minor": 5
}
