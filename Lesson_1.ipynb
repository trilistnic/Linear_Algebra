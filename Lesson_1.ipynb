{
 "cells": [
  {
   "cell_type": "markdown",
   "id": "ff8dbfdc",
   "metadata": {},
   "source": [
    "### 1.1) Исследовать на линейную зависимость:\n",
    "$f_{1}(x)=e^{x}, f_{2}(x)=1, f_{3}(x)=x+1, f_{4}(x)=x-e^{x}$"
   ]
  },
  {
   "cell_type": "markdown",
   "id": "ec308c61",
   "metadata": {},
   "source": [
    "Заметим, что $f_{1}(x)=-f_{2}(x)+f_{3}(x)-f_{4}(x)$, то есть вектор $f_{1}(x)$ — линейная комбинация векторов $f_{2}(x)$, $f_{3}(x)$ и $f_{4}(x)$, из чего можно сделать вывод, что $f_{1}(x)=e^{x}$ и $f_{2}(x)=1, f_{3}(x)=x+1, f_{4}(x)=x-e^{x}$ линейно зависимы."
   ]
  },
  {
   "cell_type": "markdown",
   "id": "345d90e5",
   "metadata": {},
   "source": [
    "### 1.2) Исследовать на линейную зависимость:\n",
    "$f_{1}(x)=2, f_{2}(x)=x, f_{3}(x)=x^{2}, f_{4}(x)=(x+1)^{2}$"
   ]
  },
  {
   "cell_type": "markdown",
   "id": "b9d0bf09",
   "metadata": {},
   "source": [
    "Заметим, что $f_{1}(x)=-4f_{2}(x)-2f_{3}(x)+2f_{4}(x)$, то есть вектор $f_{1}(x)$ — линейная комбинация векторов $f_{2}(x)$, $f_{3}(x)$ и $f_{4}(x)$, из чего можно сделать вывод, что $f_{1}(x)=2$ и $f_{2}(x)=x, f_{3}(x)=x^{2}, f_{4}(x)=(x+1)^{2}$ линейно зависимы."
   ]
  },
  {
   "cell_type": "markdown",
   "id": "c5c25209",
   "metadata": {},
   "source": [
    "### 1.3) Найти координаты вектора \n",
    "$x = (2, 3, 5)\\in \\mathbb{R}^{3}$ в базисе $b_{1}=(0, 0, 10)$, $b_{2}=(2, 0, 0)$, $b_{3}=(0, 1, 0)$"
   ]
  },
  {
   "cell_type": "markdown",
   "id": "bf395d4d",
   "metadata": {},
   "source": [
    "$x=(2, 3, 5)=a_{1}b_{1}+a_{2}b_{2}+a_{3}b_{3}=a_{1}(0,0,10)+a_{2}(2,0,0)+a_{3}(0,1,0)=(0a_{1},0a_{1},10a_{1})+(2a_{2},0a_{2},0a_{2})+(0a_{3},1a_{3},0a_{3})$\n",
    "\n",
    "$\\begin{cases}\n",
    "0a_{1}+2a_{2}+0a_{3}=2\\\\\n",
    "0a_{1}+0a_{2}+1a_{3}=3\\\\\n",
    "10a_{1}+0a_{2}+0a_{3}=5,\n",
    "\\end{cases}$\n",
    "\n",
    "$a_{1}=\\frac{1}{2}$\n",
    "$a_{2}=1$\n",
    "$a_{3}=3$\n",
    "\n",
    "\n",
    "то есть координатами вектора $x\\in \\mathbb{R}^{3}$ в базисе $b_{1}=(0, 0, 10)$, $b_{2}=(2, 0, 0)$, $b_{3}=(0, 1, 0)$ являются $\\frac{1}{2}$, $1$, $3$."
   ]
  },
  {
   "cell_type": "markdown",
   "id": "5e2e9cf8",
   "metadata": {},
   "source": [
    "### 1.4) Найти координаты вектора \n",
    "$3x^{2}-2x+2\\in\\mathbb{R}^{3}[x]$:\n",
    "\n",
    "   а) в базисе $1$, $x$, $x^{2}$;\n",
    "\n",
    "   б) в базисе $x^{2}$, $x-1$, $1$."
   ]
  },
  {
   "cell_type": "markdown",
   "id": "975e030a",
   "metadata": {},
   "source": [
    "a) $3x^{2}-2x+2\\in\\mathbb{R}^{3}[x] = a_{1}1+a_{2}x+a_{3}x^{2}$\n",
    "\n",
    "$a_{1}=2$\n",
    "$a_{2}=-2$\n",
    "$a_{3}=3$\n",
    "\n",
    "б) $3x^{2}-2x+2\\in\\mathbb{R}^{3}[x] = a_{1}x^{2}+a_{2}(x-1)+a_{3}1$\n",
    "\n",
    "$a_{1}=3$\n",
    "$a_{2}=-2$\n",
    "$a_{3}=0$\n"
   ]
  },
  {
   "cell_type": "markdown",
   "id": "2b6e58d0",
   "metadata": {},
   "source": [
    "### 1.5) Установить, является ли линейным подпространством:\n",
    "\n",
    "а) совокупность всех векторов трехмерного пространства, у которых по крайней мере одна из первых двух координат равна нулю;\n",
    "    \n",
    "б) все векторы, являющиеся линейными комбинациями данных векторов $\\{u_{1}, u_{2}, ..., u_{n}\\}$."
   ]
  },
  {
   "cell_type": "markdown",
   "id": "2519406c",
   "metadata": {},
   "source": [
    "а) \n",
    "\n",
    "1 условие\n",
    "\n",
    "$(a, 0, b)+(0, c, d) = (a, c, b+d)$\n",
    "\n",
    "2 условие\n",
    "\n",
    "$\\alpha\\cdot (a, 0, b) = (\\alpha a, 0, \\alpha b)$\n",
    "\n",
    "$\\alpha\\cdot (0, c, d) = (0, \\alpha c, \\alpha d)$\n",
    "\n",
    "2 условие выполняется, но 1 первое условие не выполняется, то есть данное множество не является подпространством линейного пространства"
   ]
  },
  {
   "cell_type": "markdown",
   "id": "2120dee5",
   "metadata": {},
   "source": [
    "б) \n",
    "\n",
    "$x = \\lambda_{1}u_{1}+\\lambda_{2}u_{2}+...+\\lambda_{n}u_{n}$\n",
    "\n",
    "$...$\n",
    "\n",
    "$n = \\alpha_{1}u_{1}+\\alpha_{2}u_{2}+...+\\alpha_{n}u_{n}$\n",
    "\n",
    "1 условие\n",
    "\n",
    "$x+n = \\lambda_{1}u_{1}+\\lambda_{2}u_{2}+...+\\lambda_{n}u_{n}+\\alpha_{1}u_{1}+\\alpha_{2}u_{2}+...+\\alpha_{n}u_{n} = (\\lambda_{1}+\\alpha_{1})u_{1}+(\\lambda_{2}+\\alpha_{2})u_{2}+...+(\\lambda_{n}+\\alpha_{n})u_{n}$\n",
    "\n",
    "2 условие\n",
    "\n",
    "$\\alpha\\lambda_{1}u_{1}+\\alpha\\lambda_{2}u_{2}+...+\\alpha\\lambda_{n}u_{n}$\n",
    "\n",
    "...\n",
    "\n",
    "\n",
    "1 и 2 условия выполняются, то есть данное множество является подпространством линейного пространства"
   ]
  },
  {
   "cell_type": "markdown",
   "id": "022cfd23",
   "metadata": {},
   "source": [
    "### 2.1) Найти скалярное произведение векторов \n",
    "$x, y \\in \\mathbb{R}$:<br>\n",
    "а) $x=(0,-3, 6),~y=(-4, 7, 9);$<br>\n",
    "б) $x=(7, -4, 0, 1),~y=(-3, 1, 11, 2).$"
   ]
  },
  {
   "cell_type": "code",
   "execution_count": 5,
   "id": "638f2775",
   "metadata": {},
   "outputs": [],
   "source": [
    "import numpy as np\n",
    "from numpy.linalg import norm"
   ]
  },
  {
   "cell_type": "code",
   "execution_count": 3,
   "id": "14f14712",
   "metadata": {},
   "outputs": [
    {
     "name": "stdout",
     "output_type": "stream",
     "text": [
      "а)Скалярное произведение a и b:\n",
      "33\n"
     ]
    }
   ],
   "source": [
    "a = np.array([0, -3, 6])\n",
    "b = np.array([-4, 7, 9])\n",
    "print(f'а)Скалярное произведение a и b:\\n{np.dot(a, b)}')"
   ]
  },
  {
   "cell_type": "code",
   "execution_count": 4,
   "id": "95e6094f",
   "metadata": {},
   "outputs": [
    {
     "name": "stdout",
     "output_type": "stream",
     "text": [
      "б)Скалярное произведение a и b:\n",
      "-23\n"
     ]
    }
   ],
   "source": [
    "a = np.array([7, -4, 0,1])\n",
    "b = np.array([-3, 1, 11,2])\n",
    "print(f'б)Скалярное произведение a и b:\\n{np.dot(a, b)}')"
   ]
  },
  {
   "cell_type": "markdown",
   "id": "c6b34ede",
   "metadata": {},
   "source": [
    "### 2.2) Найти нормы векторов и угол между ними:\n",
    "$(4, 2, 4)$ и $(12, 3, 4)$"
   ]
  },
  {
   "cell_type": "code",
   "execution_count": 8,
   "id": "8788d655",
   "metadata": {},
   "outputs": [
    {
     "name": "stdout",
     "output_type": "stream",
     "text": [
      "l2 норма вектора a:\n",
      "6.0\n",
      "l2 норма вектора b:\n",
      "13.0\n",
      "Угол между a и b: 0.46\n"
     ]
    }
   ],
   "source": [
    "a = np.array([4, 2, 4])\n",
    "b = np.array([12, 3, 4])\n",
    "na = norm(a)\n",
    "nb = norm(b)\n",
    "cos_phi = np.dot(a, b) / na / nb\n",
    "\n",
    "print(f'l2 норма вектора a:\\n{na}')\n",
    "print(f'l2 норма вектора b:\\n{nb}')\n",
    "print(f'Угол между a и b: {np.arccos(cos_phi):.2f}')"
   ]
  },
  {
   "cell_type": "markdown",
   "id": "38a213ef",
   "metadata": {},
   "source": [
    "### 2.3) Будет ли линейное пространство евклидовым, если за скалярное произведение принять:\n",
    "а) произведение длин векторов;\n",
    "\n",
    "б) утроенное обычное скалярное произведение векторов?"
   ]
  },
  {
   "cell_type": "markdown",
   "id": "16b2fcff",
   "metadata": {},
   "source": [
    "a)"
   ]
  },
  {
   "cell_type": "markdown",
   "id": "2867f331",
   "metadata": {},
   "source": [
    "1) $(x,y)=(y,x);$<br>|x||y|=|y|x|<br>Выполняется<br>\n",
    "2) $(\\lambda x, y)=\\lambda(x, y);$<br> $\\lambda|x||y|=\\lambda|x|y|$<br>Выполняется<br>\n",
    "3) $(x_{1}+x_{2},y)=(x_{1},y)+(x_{2},y);$<br>$(|x_{1}+x_{2}|)|y|\\neq|x_{1}||y|+|x_{2}||y|$<br>$|x_{1}+x_{2}|\\neq|x_{1}|+|x_{2}|$<br>Не выполняется<br>\n",
    "4) $(x, x)\\geq0$, причем $(x,x)=0\\Leftrightarrow x=0.$<br>Выполняется"
   ]
  },
  {
   "cell_type": "markdown",
   "id": "73fe620c",
   "metadata": {},
   "source": [
    "б)"
   ]
  },
  {
   "cell_type": "markdown",
   "id": "5b4d98d0",
   "metadata": {},
   "source": [
    "1) $(x,y)=(y,x);$<br>$3(x_{1}y_{1}+...+x_{n}y_{n})=3(y_{1}x_{1}+...+y_{n}x_{n})$<br>Выполняется<br>\n",
    "2) $(\\lambda x, y)=\\lambda(x, y); $<br>$3(\\lambda x_{1}y_{1}+...+\\lambda x_{n}y_{n})=3\\lambda(y_{1}x_{1}+...+y_{n}x_{n})$<br>Выполняется<br>\n",
    "3) $(x_{1}+x_{2},y)=(x_{1},y)+(x_{2},y);$<br>Выполняется<br>\n",
    "4) $(x, x)\\geq0$, причем $(x,x)=0\\Leftrightarrow x=0.$<br>Выполняется"
   ]
  },
  {
   "cell_type": "markdown",
   "id": "f3f0315b",
   "metadata": {},
   "source": [
    "### 2.4) Какие из нижеперечисленных векторов образуют ортонормированный базис в линейном пространстве \n",
    "$\\mathbb{R}^{3}$:<br>\n",
    "а) $(1,0,0),(0,0,1);$ <br>\n",
    "б) $(1/\\sqrt{2},-1/\\sqrt{2},0),(1/\\sqrt{2},1/\\sqrt{2},0), (0,0,1);$<br>\n",
    "в) $(1/2, -1/2, 0), (0, 1/2, 1/2), (0,0,1);$<br>\n",
    "г) $(1,0,0),(0,1,0),(0,0,1)?$ "
   ]
  },
  {
   "cell_type": "markdown",
   "id": "b4fa7b85",
   "metadata": {},
   "source": [
    "$(e_{i}, e_{j})=0$ $\\forall$ $i\\neq j$ и $(e_{i},e_{i})=1$ $\\forall$ $i\\in[1, n]$"
   ]
  },
  {
   "cell_type": "markdown",
   "id": "19ddc644",
   "metadata": {},
   "source": [
    "а)"
   ]
  },
  {
   "cell_type": "code",
   "execution_count": 19,
   "id": "10c3a700",
   "metadata": {},
   "outputs": [
    {
     "name": "stdout",
     "output_type": "stream",
     "text": [
      "а)Скалярное произведение a и a:1\n",
      "а)Скалярное произведение c и c:1\n",
      "а)Скалярное произведение a и c:0\n"
     ]
    }
   ],
   "source": [
    "a = np.array([1, 0, 0])\n",
    "c = np.array([0, 0, 1])\n",
    "\n",
    "print(f'а)Скалярное произведение a и a:{np.dot(a, a)}')\n",
    "print(f'а)Скалярное произведение c и c:{np.dot(c, c)}')\n",
    "print(f'а)Скалярное произведение a и c:{np.dot(a, c)}')"
   ]
  },
  {
   "cell_type": "markdown",
   "id": "1cf0ff03",
   "metadata": {},
   "source": [
    "+"
   ]
  },
  {
   "cell_type": "markdown",
   "id": "d77cc2d0",
   "metadata": {},
   "source": [
    "б)"
   ]
  },
  {
   "cell_type": "code",
   "execution_count": 14,
   "id": "17697a52",
   "metadata": {},
   "outputs": [
    {
     "name": "stdout",
     "output_type": "stream",
     "text": [
      "а)Скалярное произведение a и a:1\n",
      "а)Скалярное произведение b и b:1\n",
      "а)Скалярное произведение c и c:1\n",
      "а)Скалярное произведение a и b:0\n",
      "а)Скалярное произведение b и c:0\n",
      "а)Скалярное произведение a и c:0\n"
     ]
    }
   ],
   "source": [
    "a = np.array([1/(2**0.5), -1/(2**0.5), 0])\n",
    "b = np.array([1/(2**0.5), 1/(2**0.5), 0])\n",
    "c = np.array([0, 0, 1])\n",
    "\n",
    "print(f'а)Скалярное произведение a и a:{np.dot(a, a):.0f}')\n",
    "print(f'а)Скалярное произведение b и b:{np.dot(b, b):.0f}')\n",
    "print(f'а)Скалярное произведение c и c:{np.dot(c, c):.0f}')\n",
    "print(f'а)Скалярное произведение a и b:{np.dot(a, b):.0f}')\n",
    "print(f'а)Скалярное произведение b и c:{np.dot(b, c):.0f}')\n",
    "print(f'а)Скалярное произведение a и c:{np.dot(a, c):.0f}')"
   ]
  },
  {
   "cell_type": "markdown",
   "id": "c45bbdaf",
   "metadata": {},
   "source": [
    "+"
   ]
  },
  {
   "cell_type": "markdown",
   "id": "93717342",
   "metadata": {},
   "source": [
    "в)"
   ]
  },
  {
   "cell_type": "code",
   "execution_count": 16,
   "id": "d4bbcdcd",
   "metadata": {},
   "outputs": [
    {
     "name": "stdout",
     "output_type": "stream",
     "text": [
      "а)Скалярное произведение a и a:0.5\n",
      "а)Скалярное произведение b и b:0.5\n",
      "а)Скалярное произведение c и c:1\n",
      "а)Скалярное произведение a и b:-0.25\n",
      "а)Скалярное произведение b и c:0.5\n",
      "а)Скалярное произведение a и c:0.0\n"
     ]
    }
   ],
   "source": [
    "a = np.array([1/2, -1/2, 0])\n",
    "b = np.array([0, 1/2, 1/2])\n",
    "c = np.array([0, 0, 1])\n",
    "\n",
    "print(f'а)Скалярное произведение a и a:{np.dot(a, a)}')\n",
    "print(f'а)Скалярное произведение b и b:{np.dot(b, b)}')\n",
    "print(f'а)Скалярное произведение c и c:{np.dot(c, c)}')\n",
    "print(f'а)Скалярное произведение a и b:{np.dot(a, b)}')\n",
    "print(f'а)Скалярное произведение b и c:{np.dot(b, c)}')\n",
    "print(f'а)Скалярное произведение a и c:{np.dot(a, c)}')"
   ]
  },
  {
   "cell_type": "markdown",
   "id": "2b2fe443",
   "metadata": {},
   "source": [
    "-"
   ]
  },
  {
   "cell_type": "markdown",
   "id": "ad7bc9b5",
   "metadata": {},
   "source": [
    "г)"
   ]
  },
  {
   "cell_type": "code",
   "execution_count": 17,
   "id": "04b1ede1",
   "metadata": {},
   "outputs": [
    {
     "name": "stdout",
     "output_type": "stream",
     "text": [
      "а)Скалярное произведение a и a:1\n",
      "а)Скалярное произведение b и b:1\n",
      "а)Скалярное произведение c и c:1\n",
      "а)Скалярное произведение a и b:0\n",
      "а)Скалярное произведение b и c:0\n",
      "а)Скалярное произведение a и c:0\n"
     ]
    }
   ],
   "source": [
    "a = np.array([1, 0, 0])\n",
    "b = np.array([0, 1, 0])\n",
    "c = np.array([0, 0, 1])\n",
    "\n",
    "print(f'а)Скалярное произведение a и a:{np.dot(a, a)}')\n",
    "print(f'а)Скалярное произведение b и b:{np.dot(b, b)}')\n",
    "print(f'а)Скалярное произведение c и c:{np.dot(c, c)}')\n",
    "print(f'а)Скалярное произведение a и b:{np.dot(a, b)}')\n",
    "print(f'а)Скалярное произведение b и c:{np.dot(b, c)}')\n",
    "print(f'а)Скалярное произведение a и c:{np.dot(a, c)}')"
   ]
  },
  {
   "cell_type": "markdown",
   "id": "9c6b8968",
   "metadata": {},
   "source": [
    "+"
   ]
  }
 ],
 "metadata": {
  "kernelspec": {
   "display_name": "Python 3 (ipykernel)",
   "language": "python",
   "name": "python3"
  },
  "language_info": {
   "codemirror_mode": {
    "name": "ipython",
    "version": 3
   },
   "file_extension": ".py",
   "mimetype": "text/x-python",
   "name": "python",
   "nbconvert_exporter": "python",
   "pygments_lexer": "ipython3",
   "version": "3.9.7"
  }
 },
 "nbformat": 4,
 "nbformat_minor": 5
}
