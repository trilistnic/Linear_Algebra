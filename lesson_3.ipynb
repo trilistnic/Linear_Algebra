{
 "cells": [
  {
   "cell_type": "code",
   "execution_count": 1,
   "id": "ea17e3ed",
   "metadata": {},
   "outputs": [],
   "source": [
    "import numpy as np\n",
    "def solution(A):\n",
    "    w, v = np.linalg.eig(A)\n",
    "    print(f'Матрица A:\\n{A}')\n",
    "    print(f'Собственные значения:\\n{w}')\n",
    "    print(f'Собственные векторы:\\n{v}')"
   ]
  },
  {
   "cell_type": "markdown",
   "id": "8bb0a425",
   "metadata": {},
   "source": [
    "### 1) Найти собственные векторы и собственные значения для линейного оператора, заданного матрицей A."
   ]
  },
  {
   "cell_type": "markdown",
   "id": "a8e975bc",
   "metadata": {},
   "source": [
    "$A=\\begin{pmatrix}\n",
    "-1 & -6\\\\ \n",
    "2 & 6\n",
    "\\end{pmatrix}$"
   ]
  },
  {
   "cell_type": "markdown",
   "id": "e970ade6",
   "metadata": {},
   "source": [
    "$det(\\textbf{A}-\\lambda\\textbf{I})=0$"
   ]
  },
  {
   "cell_type": "markdown",
   "id": "f1ee60f8",
   "metadata": {},
   "source": [
    "$\\begin{vmatrix}\n",
    "-1-\\lambda & -6\\\\ \n",
    "2 & 6-\\lambda\n",
    "\\end{vmatrix} = 0$\n",
    "\n",
    "$(-1-\\lambda)\\cdot(6-\\lambda) - 2\\cdot-6=0$\n",
    "\n",
    "$-6+\\lambda-6\\lambda+\\lambda^{2}+12=0$\n",
    "\n",
    "$\\lambda^{2}-5\\lambda+6=0$\n",
    "\n",
    "$\\lambda_{1}=2$\n",
    "\n",
    "$\\lambda_{2}=3$"
   ]
  },
  {
   "cell_type": "markdown",
   "id": "5619c416",
   "metadata": {},
   "source": [
    "$\\textbf{A}x=\\lambda x$"
   ]
  },
  {
   "cell_type": "markdown",
   "id": "1a5a5131",
   "metadata": {},
   "source": [
    "$\\begin{pmatrix}\n",
    "-1 & -6\\\\ \n",
    "2 & 6\n",
    "\\end{pmatrix}\n",
    "\\begin{pmatrix}\n",
    "x_{1}\\\\ \n",
    "x_{2}\n",
    "\\end{pmatrix}=2\n",
    "\\begin{pmatrix}\n",
    "x_{1}\\\\ \n",
    "x_{2}\n",
    "\\end{pmatrix}\n",
    "=>\n",
    "\\begin{cases}\n",
    "-1x_{1}-6x_{2}= 2x_{1}, \\\\\n",
    "2x_{1}+6x_{2}= 2x_{2}.\n",
    "\\end{cases}\n",
    "=>\n",
    "\\begin{cases}\n",
    "-2x_{2}= x_{1}, \\\\\n",
    "x_{1}= -2x_{2}.\n",
    "\\end{cases}$"
   ]
  },
  {
   "cell_type": "markdown",
   "id": "70864cdc",
   "metadata": {},
   "source": [
    "$\\begin{pmatrix}\n",
    "-1 & -6\\\\ \n",
    "2 & 6\n",
    "\\end{pmatrix}\n",
    "\\begin{pmatrix}\n",
    "x_{1}\\\\ \n",
    "x_{2}\n",
    "\\end{pmatrix}=3\n",
    "\\begin{pmatrix}\n",
    "x_{1}\\\\ \n",
    "x_{2}\n",
    "\\end{pmatrix}\n",
    "=>\n",
    "\\begin{cases}\n",
    "-1x_{1}-6x_{2}= 3x_{1}, \\\\\n",
    "2x_{1}+6x_{2}= 3x_{2}.\n",
    "\\end{cases}\n",
    "=>\n",
    "\\begin{cases}\n",
    "-1.5x_{2}= 4x_{1}, \\\\\n",
    "x_{1}= -1.5x_{2}.\n",
    "\\end{cases}$"
   ]
  },
  {
   "cell_type": "code",
   "execution_count": 2,
   "id": "83780ebb",
   "metadata": {},
   "outputs": [
    {
     "name": "stdout",
     "output_type": "stream",
     "text": [
      "Матрица A:\n",
      "[[-1 -6]\n",
      " [ 2  6]]\n",
      "Собственные значения:\n",
      "[2. 3.]\n",
      "Собственные векторы:\n",
      "[[-0.89442719  0.83205029]\n",
      " [ 0.4472136  -0.5547002 ]]\n"
     ]
    }
   ],
   "source": [
    "A = np.array([[-1, -6], [2, 6]])\n",
    "solution(A)"
   ]
  },
  {
   "cell_type": "markdown",
   "id": "de71076c",
   "metadata": {},
   "source": [
    "### 2) Дан оператор поворота на 180 градусов, задаваемый матрицей A. Показать, что любой вектор является для него собственным."
   ]
  },
  {
   "cell_type": "markdown",
   "id": "326567ea",
   "metadata": {},
   "source": [
    "$A=\\begin{pmatrix}\n",
    "-1 & 0\\\\ \n",
    "0 & -1\n",
    "\\end{pmatrix}$"
   ]
  },
  {
   "cell_type": "markdown",
   "id": "60b0e81d",
   "metadata": {},
   "source": [
    "$\\textbf{A}x=\\lambda x$"
   ]
  },
  {
   "cell_type": "markdown",
   "id": "60d95bc8",
   "metadata": {},
   "source": [
    "$\\begin{pmatrix}\n",
    "-1 & 0\\\\ \n",
    "0 & -1\n",
    "\\end{pmatrix}\n",
    "\\begin{pmatrix}\n",
    "x_{1}\\\\ \n",
    "x_{2}\n",
    "\\end{pmatrix}=\\lambda\n",
    "\\begin{pmatrix}\n",
    "x_{1}\\\\ \n",
    "x_{2}\n",
    "\\end{pmatrix}\n",
    "$"
   ]
  },
  {
   "cell_type": "markdown",
   "id": "6d462ff1",
   "metadata": {},
   "source": [
    "$-1\\cdot E\n",
    "\\begin{pmatrix}\n",
    "x_{1}\\\\ \n",
    "x_{2}\n",
    "\\end{pmatrix}=\\lambda\n",
    "\\begin{pmatrix}\n",
    "x_{1}\\\\ \n",
    "x_{2}\n",
    "\\end{pmatrix}\n",
    "$"
   ]
  },
  {
   "cell_type": "markdown",
   "id": "10fcfbb3",
   "metadata": {},
   "source": [
    "$-1\n",
    "\\begin{pmatrix}\n",
    "x_{1}\\\\ \n",
    "x_{2}\n",
    "\\end{pmatrix}=\\lambda\n",
    "\\begin{pmatrix}\n",
    "x_{1}\\\\ \n",
    "x_{2}\n",
    "\\end{pmatrix}\n",
    "$"
   ]
  },
  {
   "cell_type": "markdown",
   "id": "68802631",
   "metadata": {},
   "source": [
    "$\\lambda=-1$, а любой вектор x собственный"
   ]
  },
  {
   "cell_type": "markdown",
   "id": "581a0558",
   "metadata": {},
   "source": [
    "### 3) Пусть линейный оператор задан матрицей A. Установить, является ли вектор x собственным вектором этого линейного оператора."
   ]
  },
  {
   "cell_type": "markdown",
   "id": "71d962a5",
   "metadata": {},
   "source": [
    "$A=\\begin{pmatrix}\n",
    "1 & 1\\\\ \n",
    "-1 & 3\n",
    "\\end{pmatrix}$\n",
    "\n",
    "$x=(1,1)$"
   ]
  },
  {
   "cell_type": "markdown",
   "id": "2cfeedf2",
   "metadata": {},
   "source": [
    "$\\textbf{A}x=\\lambda x$"
   ]
  },
  {
   "cell_type": "markdown",
   "id": "30931f6b",
   "metadata": {},
   "source": [
    "$\\begin{pmatrix}\n",
    "1 & 1\\\\ \n",
    "-1 & 3\n",
    "\\end{pmatrix}\n",
    "\\begin{pmatrix}\n",
    "1\\\\ \n",
    "1 \n",
    "\\end{pmatrix}=\n",
    "\\lambda\n",
    "\\begin{pmatrix}\n",
    "1\\\\ \n",
    "1\n",
    "\\end{pmatrix}\n",
    "=>\n",
    "\\begin{cases}\n",
    "1+1=1\\cdot\\lambda \\\\ \n",
    "-1+3 = 1\\cdot \\lambda\n",
    "\\end{cases}\n",
    "=>\n",
    "\\begin{cases}\n",
    "\\lambda=2\\\\ \n",
    "\\lambda=2\n",
    "\\end{cases}$"
   ]
  },
  {
   "cell_type": "markdown",
   "id": "7a9ca9ea",
   "metadata": {},
   "source": [
    "Таким образом, вектор  x=(1,1)  является собственным вектором линейного оператора, заданного матрицей  A, и его собственное значение составляет  λ=2."
   ]
  },
  {
   "cell_type": "markdown",
   "id": "1e5024f8",
   "metadata": {},
   "source": [
    "### 4) Пусть линейный оператор задан матрицей A. Установить, является ли вектор x собственным вектором этого линейного оператора."
   ]
  },
  {
   "cell_type": "markdown",
   "id": "69cc9b36",
   "metadata": {},
   "source": [
    "$A=\\begin{pmatrix}\n",
    "0 & 3 & 0\\\\ \n",
    "3 & 0 & 0\\\\\n",
    "0 & 0 & 3\n",
    "\\end{pmatrix}$\n",
    "\n",
    "$x=(3, -3, -4)$"
   ]
  },
  {
   "cell_type": "markdown",
   "id": "85bee8e3",
   "metadata": {},
   "source": [
    "$\\textbf{A}x=\\lambda x$"
   ]
  },
  {
   "cell_type": "markdown",
   "id": "b56c3070",
   "metadata": {},
   "source": [
    "$\\begin{pmatrix}\n",
    "0 & 3 & 0\\\\ \n",
    "3 & 0 & 0\\\\\n",
    "0 & 0 & 3\n",
    "\\end{pmatrix}\n",
    "\\begin{pmatrix}\n",
    "3\\\\\n",
    "-3\\\\\n",
    "-4\n",
    "\\end{pmatrix}=\n",
    "\\lambda\n",
    "\\begin{pmatrix}\n",
    "4\\\\\n",
    "-3\\\\\n",
    "-4\n",
    "\\end{pmatrix}\n",
    "=>\n",
    "\\begin{cases}\n",
    "-9=3\\lambda\\\\ \n",
    "9=-3\\lambda\\\\\n",
    "-12=-4\\lambda\n",
    "\\end{cases}\n",
    "=>\n",
    "\\begin{cases}\n",
    "\\lambda=-3\\\\ \n",
    "\\lambda=-3\\\\\n",
    "\\lambda=3\n",
    "\\end{cases}\n",
    "$"
   ]
  },
  {
   "cell_type": "markdown",
   "id": "f43cdc88",
   "metadata": {},
   "source": [
    "Таким образом, вектор  x=(3,-3,-4) не является собственным вектором линейного оператора, заданного матрицей  A."
   ]
  }
 ],
 "metadata": {
  "kernelspec": {
   "display_name": "Python 3 (ipykernel)",
   "language": "python",
   "name": "python3"
  },
  "language_info": {
   "codemirror_mode": {
    "name": "ipython",
    "version": 3
   },
   "file_extension": ".py",
   "mimetype": "text/x-python",
   "name": "python",
   "nbconvert_exporter": "python",
   "pygments_lexer": "ipython3",
   "version": "3.9.7"
  }
 },
 "nbformat": 4,
 "nbformat_minor": 5
}
