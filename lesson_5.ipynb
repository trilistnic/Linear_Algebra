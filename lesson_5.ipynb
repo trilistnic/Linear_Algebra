{
 "cells": [
  {
   "cell_type": "code",
   "execution_count": 1,
   "id": "13a142b1",
   "metadata": {},
   "outputs": [],
   "source": [
    "import numpy as np\n",
    "np.set_printoptions(precision=2, suppress=True)"
   ]
  },
  {
   "cell_type": "markdown",
   "id": "a43bfcd9",
   "metadata": {},
   "source": [
    "### 1) Найти с помощью NumPy SVD для матрицы\n",
    "\n",
    "$\\begin{pmatrix}\n",
    "1 & 2 & 0\\\\ \n",
    "0 & 0 & 5\\\\ \n",
    "3 & -4 & 2\\\\ \n",
    "1 & 6 & 5\\\\ \n",
    "0 & 1 & 0\n",
    "\\end{pmatrix}$"
   ]
  },
  {
   "cell_type": "code",
   "execution_count": 2,
   "id": "b94d709f",
   "metadata": {},
   "outputs": [
    {
     "name": "stdout",
     "output_type": "stream",
     "text": [
      "Матрица A:\n",
      "[[ 1  2  0]\n",
      " [ 0  0  5]\n",
      " [ 3 -4  2]\n",
      " [ 1  6  5]\n",
      " [ 0  1  0]]\n"
     ]
    }
   ],
   "source": [
    "A = np.array([[1, 2, 0],\n",
    "              [0, 0, 5],\n",
    "              [3, -4, 2],\n",
    "              [1, 6, 5],\n",
    "              [0, 1, 0]])\n",
    "print(f'Матрица A:\\n{A}')"
   ]
  },
  {
   "cell_type": "code",
   "execution_count": 6,
   "id": "2a120039",
   "metadata": {},
   "outputs": [
    {
     "name": "stdout",
     "output_type": "stream",
     "text": [
      "Матрица U:\n",
      "[[ 0.17  0.16 -0.53 -0.8  -0.16]\n",
      " [ 0.39 -0.53  0.61 -0.43  0.03]\n",
      " [-0.14 -0.82 -0.52  0.14  0.07]\n",
      " [ 0.89  0.06 -0.25  0.38 -0.06]\n",
      " [ 0.08  0.11 -0.08 -0.11  0.98]]\n",
      "\n",
      "Матрица V:\n",
      "[[ 0.07 -0.37 -0.93]\n",
      " [ 0.72  0.67 -0.21]\n",
      " [ 0.69 -0.65  0.31]]\n",
      "\n",
      "Матрица D:\n",
      "[[8.82 0.   0.  ]\n",
      " [0.   6.14 0.  ]\n",
      " [0.   0.   2.53]\n",
      " [0.   0.   0.  ]\n",
      " [0.   0.   0.  ]]\n"
     ]
    }
   ],
   "source": [
    "U, s, W = np.linalg.svd(A)\n",
    "\n",
    "V = W.T\n",
    "D = np.zeros_like(A, dtype=float)\n",
    "D[np.diag_indices(min(A.shape))] = s\n",
    "print(f'Матрица U:\\n{U}\\n')\n",
    "print(f'Матрица V:\\n{V}\\n')\n",
    "print(f'Матрица D:\\n{D}')"
   ]
  },
  {
   "cell_type": "code",
   "execution_count": 10,
   "id": "7b2d517b",
   "metadata": {},
   "outputs": [
    {
     "name": "stdout",
     "output_type": "stream",
     "text": [
      "[[ 1.  2.  0.]\n",
      " [ 0. -0.  5.]\n",
      " [ 3. -4.  2.]\n",
      " [ 1.  6.  5.]\n",
      " [-0.  1.  0.]]\n"
     ]
    }
   ],
   "source": [
    "# Проведем проверку\n",
    "print(np.dot(np.dot(U, D), V.T))"
   ]
  },
  {
   "cell_type": "markdown",
   "id": "4332e90c",
   "metadata": {},
   "source": [
    "### 2) Для матрицы из предыдущего задания найти:\n",
    "\n",
    "а) евклидову норму;\n",
    "    \n",
    "б) норму Фробениуса."
   ]
  },
  {
   "cell_type": "markdown",
   "id": "9f4deaf4",
   "metadata": {},
   "source": [
    "а) $\\left \\| A \\right \\|_{E}=\\mu_{1}$"
   ]
  },
  {
   "cell_type": "code",
   "execution_count": 15,
   "id": "bfda0679",
   "metadata": {},
   "outputs": [
    {
     "name": "stdout",
     "output_type": "stream",
     "text": [
      "Евклидова норма:\n",
      "8.824868854820442\n"
     ]
    }
   ],
   "source": [
    "print(f'Евклидова норма:\\n{s[0]}')"
   ]
  },
  {
   "cell_type": "markdown",
   "id": "fe18ad17",
   "metadata": {},
   "source": [
    "б) $\\left \\| A \\right \\|_{F}=\\sqrt{\\sum_{k=1}^{r}\\mu_{k}^{2}}$"
   ]
  },
  {
   "cell_type": "code",
   "execution_count": 17,
   "id": "70371238",
   "metadata": {},
   "outputs": [],
   "source": [
    "def norm(s):\n",
    "    sum = 0\n",
    "    for i in s:\n",
    "       sum+=i**2\n",
    "    print(f'норма Фробениуса:\\n{sum**0.5}')"
   ]
  },
  {
   "cell_type": "code",
   "execution_count": 18,
   "id": "17b334aa",
   "metadata": {},
   "outputs": [
    {
     "name": "stdout",
     "output_type": "stream",
     "text": [
      "норма Фробениуса:\n",
      "11.045361017187261\n"
     ]
    }
   ],
   "source": [
    "norm(s)"
   ]
  }
 ],
 "metadata": {
  "kernelspec": {
   "display_name": "Python 3 (ipykernel)",
   "language": "python",
   "name": "python3"
  },
  "language_info": {
   "codemirror_mode": {
    "name": "ipython",
    "version": 3
   },
   "file_extension": ".py",
   "mimetype": "text/x-python",
   "name": "python",
   "nbconvert_exporter": "python",
   "pygments_lexer": "ipython3",
   "version": "3.9.7"
  }
 },
 "nbformat": 4,
 "nbformat_minor": 5
}
