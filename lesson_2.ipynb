{
 "cells": [
  {
   "cell_type": "markdown",
   "id": "da2a1489",
   "metadata": {},
   "source": [
    "### 1.1) Установить, какие произведения матриц $AB$ и $BA$ определены, и найти размерности полученных матриц:"
   ]
  },
  {
   "cell_type": "markdown",
   "id": "4eb1bb2d",
   "metadata": {},
   "source": [
    "а) $A$ — матрица $4\\times 2$, $B$ — матрица $4\\times 2$;<br>\n",
    "АВ и ВА нельзя определить"
   ]
  },
  {
   "cell_type": "markdown",
   "id": "c1f25a63",
   "metadata": {},
   "source": [
    "б) $A$ — матрица $2\\times 5$, $B$ — матрица $5\\times 3$;<br>\n",
    "ВА нельзя определить, размерность АВ $2\\times 3$"
   ]
  },
  {
   "cell_type": "markdown",
   "id": "6b8b539e",
   "metadata": {},
   "source": [
    "в) $A$ — матрица $8\\times 3$, $B$ — матрица $3\\times 8$;<br>\n",
    "размерность АВ $8\\times 8$, размерность ВА $3\\times 3$"
   ]
  },
  {
   "cell_type": "markdown",
   "id": "ddb0ef56",
   "metadata": {},
   "source": [
    "г) $A$ — квадратная матрица $4\\times 4$, $B$ — квадратная матрица $4\\times 4$<br>\n",
    "размерность АВ $4\\times 4$, размерность АВ $4\\times 4$"
   ]
  },
  {
   "cell_type": "markdown",
   "id": "46fe1201",
   "metadata": {},
   "source": [
    "### 1.2) Найти сумму и произведение матриц:\n",
    "$A=\\begin{pmatrix}\n",
    "1 & -2\\\\ \n",
    "3 & 0\n",
    "\\end{pmatrix}$ и $B=\\begin{pmatrix}\n",
    "4 & -1\\\\ \n",
    "0 & 5\n",
    "\\end{pmatrix}.$"
   ]
  },
  {
   "cell_type": "markdown",
   "id": "0a2708b3",
   "metadata": {},
   "source": [
    "$A+B=\\begin{pmatrix}\n",
    "1 & -2\\\\ \n",
    "3 & 0\n",
    "\\end{pmatrix}+\n",
    "\\begin{pmatrix}\n",
    "4 & -1\\\\ \n",
    "0 & 5\n",
    "\\end{pmatrix}=\n",
    "\\begin{pmatrix}\n",
    "5 & -3\\\\ \n",
    "3 & 5\n",
    "\\end{pmatrix}$"
   ]
  },
  {
   "cell_type": "markdown",
   "id": "4b83deb0",
   "metadata": {},
   "source": [
    "$A*B=\\begin{pmatrix}\n",
    "1 & -2\\\\ \n",
    "3 & 0\n",
    "\\end{pmatrix}*\n",
    "\\begin{pmatrix}\n",
    "4 & -1\\\\ \n",
    "0 & 5\n",
    "\\end{pmatrix}=\n",
    "\\begin{pmatrix}\n",
    "4+0 & -1-10\\\\ \n",
    "12+0 & -3+0\n",
    "\\end{pmatrix}=\n",
    "\\begin{pmatrix}\n",
    "4 & -11\\\\ \n",
    "12 & -3\n",
    "\\end{pmatrix}$"
   ]
  },
  {
   "cell_type": "markdown",
   "id": "ae036807",
   "metadata": {},
   "source": [
    "$B*A=\\begin{pmatrix}\n",
    "4 & -1\\\\ \n",
    "0 & 5\n",
    "\\end{pmatrix}*\n",
    "\\begin{pmatrix}\n",
    "1 & -2\\\\ \n",
    "3 & 0\n",
    "\\end{pmatrix}=\n",
    "\\begin{pmatrix}\n",
    "4-3 & -8+0\\\\ \n",
    "0+15 & 0+0\n",
    "\\end{pmatrix}=\n",
    "\\begin{pmatrix}\n",
    "1 & -8\\\\ \n",
    "15 & 0\n",
    "\\end{pmatrix}$"
   ]
  },
  {
   "cell_type": "code",
   "execution_count": 1,
   "id": "75bee790",
   "metadata": {},
   "outputs": [],
   "source": [
    "import numpy as np"
   ]
  },
  {
   "cell_type": "code",
   "execution_count": 2,
   "id": "b89b3bc0",
   "metadata": {},
   "outputs": [],
   "source": [
    "A = np.array([[1, -2], [3, 0]])\n",
    "B = np.array([[4, -1], [0, 5]])"
   ]
  },
  {
   "cell_type": "code",
   "execution_count": 3,
   "id": "7968f160",
   "metadata": {},
   "outputs": [
    {
     "data": {
      "text/plain": [
       "array([[ 5, -3],\n",
       "       [ 3,  5]])"
      ]
     },
     "execution_count": 3,
     "metadata": {},
     "output_type": "execute_result"
    }
   ],
   "source": [
    "A + B"
   ]
  },
  {
   "cell_type": "code",
   "execution_count": 4,
   "id": "60e239c5",
   "metadata": {},
   "outputs": [
    {
     "data": {
      "text/plain": [
       "array([[  4, -11],\n",
       "       [ 12,  -3]])"
      ]
     },
     "execution_count": 4,
     "metadata": {},
     "output_type": "execute_result"
    }
   ],
   "source": [
    "A @ B"
   ]
  },
  {
   "cell_type": "code",
   "execution_count": 5,
   "id": "d0c91921",
   "metadata": {},
   "outputs": [
    {
     "data": {
      "text/plain": [
       "array([[ 1, -8],\n",
       "       [15,  0]])"
      ]
     },
     "execution_count": 5,
     "metadata": {},
     "output_type": "execute_result"
    }
   ],
   "source": [
    "B @ A"
   ]
  },
  {
   "cell_type": "markdown",
   "id": "fbf84f4e",
   "metadata": {},
   "source": [
    "### 1.3) Из закономерностей сложения и умножения матриц на число можно сделать вывод, что матрицы одного размера образуют линейное пространство. Вычислить линейную комбинацию $3A-2B+4C$ для матриц $A=\\begin{pmatrix}\n",
    "1 & 7\\\\ \n",
    "3 & -6\n",
    "\\end{pmatrix}$, $B=\\begin{pmatrix}\n",
    "0 & 5\\\\ \n",
    "2 & -1\n",
    "\\end{pmatrix}$, $C=\\begin{pmatrix}\n",
    "2 & -4\\\\ \n",
    "1 & 1\n",
    "\\end{pmatrix}.$"
   ]
  },
  {
   "cell_type": "markdown",
   "id": "f89d9e0a",
   "metadata": {},
   "source": [
    "$3A-2B+4C=3\\begin{pmatrix}\n",
    "1 & 7\\\\ \n",
    "3 & -6\n",
    "\\end{pmatrix}-\n",
    "2\\begin{pmatrix}\n",
    "0 & 5\\\\ \n",
    "2 & -1\n",
    "\\end{pmatrix}+\n",
    "4\\begin{pmatrix}\n",
    "2 & -4\\\\ \n",
    "1 & 1\n",
    "\\end{pmatrix}=\n",
    "\\begin{pmatrix}\n",
    "3-0+8 & 21-10-16\\\\ \n",
    "9-4+4 & -18+2+4\n",
    "\\end{pmatrix}=\n",
    "\\begin{pmatrix}\n",
    "11 & -5\\\\ \n",
    "9 & -12\n",
    "\\end{pmatrix}$"
   ]
  },
  {
   "cell_type": "code",
   "execution_count": 6,
   "id": "0f5edd86",
   "metadata": {},
   "outputs": [
    {
     "data": {
      "text/plain": [
       "array([[ 11,  -5],\n",
       "       [  9, -12]])"
      ]
     },
     "execution_count": 6,
     "metadata": {},
     "output_type": "execute_result"
    }
   ],
   "source": [
    "A = np.array([[1, 7], [3, -6]])\n",
    "B = np.array([[0, 5], [2, -1]])\n",
    "C = np.array([[2, -4], [1, 1]])\n",
    "3 * A - 2 * B + 4 * C"
   ]
  },
  {
   "cell_type": "markdown",
   "id": "121f76c0",
   "metadata": {},
   "source": [
    "### 1.4) Дана матрица \n",
    "$A=\\begin{pmatrix}\n",
    "4 & 1\\\\ \n",
    "5 & -2\\\\ \n",
    "2 & 3\n",
    "\\end{pmatrix}$.\n",
    "Вычислить $AA^{T}$ и $A^{T}A$."
   ]
  },
  {
   "cell_type": "code",
   "execution_count": 8,
   "id": "3b9c31d9",
   "metadata": {},
   "outputs": [],
   "source": [
    "A = np.array([[4, 1], [5, -2], [2, 3]])"
   ]
  },
  {
   "cell_type": "markdown",
   "id": "a733b5cf",
   "metadata": {},
   "source": [
    "$AA^{T}=\n",
    "\\begin{pmatrix}\n",
    "4 & 1\\\\ \n",
    "5 & -2\\\\ \n",
    "2 & 3\n",
    "\\end{pmatrix}\n",
    "\\begin{pmatrix}\n",
    "4 & 5 & 2\\\\ \n",
    "1 & -2 & 3\n",
    "\\end{pmatrix}=\n",
    "\\begin{pmatrix}\n",
    "16+1 & 20-2 & 8+3\\\\ \n",
    "20-2 & 25+4 & 10-6\\\\ \n",
    "8+3 & 10-6 & 4+9\n",
    "\\end{pmatrix}=\n",
    "\\begin{pmatrix}\n",
    "17 & 18 & 11\\\\ \n",
    "18 & 29 & 4\\\\ \n",
    "11 & 4 & 13\n",
    "\\end{pmatrix}\n",
    "$ "
   ]
  },
  {
   "cell_type": "markdown",
   "id": "3fadc5b6",
   "metadata": {},
   "source": [
    "$AA^{T}=\n",
    "\\begin{pmatrix}\n",
    "4 & 5 & 2\\\\ \n",
    "1 & -2 & 3\n",
    "\\end{pmatrix}\n",
    "\\begin{pmatrix}\n",
    "4 & 1\\\\ \n",
    "5 & -2\\\\ \n",
    "2 & 3\n",
    "\\end{pmatrix}=\n",
    "\\begin{pmatrix}\n",
    "16+25+4 & 4-10+6\\\\ \n",
    "4-10+6 & 1+4+9\n",
    "\\end{pmatrix}=\n",
    "\\begin{pmatrix}\n",
    "45 & 0\\\\ \n",
    "0 & 14\n",
    "\\end{pmatrix}\n",
    "$ "
   ]
  },
  {
   "cell_type": "code",
   "execution_count": 9,
   "id": "da0a9ea4",
   "metadata": {},
   "outputs": [
    {
     "data": {
      "text/plain": [
       "array([[17, 18, 11],\n",
       "       [18, 29,  4],\n",
       "       [11,  4, 13]])"
      ]
     },
     "execution_count": 9,
     "metadata": {},
     "output_type": "execute_result"
    }
   ],
   "source": [
    "A @ A.T"
   ]
  },
  {
   "cell_type": "code",
   "execution_count": 10,
   "id": "f7d2e88f",
   "metadata": {},
   "outputs": [
    {
     "data": {
      "text/plain": [
       "array([[45,  0],\n",
       "       [ 0, 14]])"
      ]
     },
     "execution_count": 10,
     "metadata": {},
     "output_type": "execute_result"
    }
   ],
   "source": [
    "A.T @ A"
   ]
  },
  {
   "cell_type": "markdown",
   "id": "37c63495",
   "metadata": {},
   "source": [
    "### 1.5) Написать на Python функцию для перемножения двух произвольных матриц, не используя NumPy."
   ]
  },
  {
   "cell_type": "code",
   "execution_count": 96,
   "id": "9ac14b8c",
   "metadata": {},
   "outputs": [],
   "source": [
    "def multiplication(A, B):\n",
    "    rows_A = len(A)\n",
    "    cols_A = len(A[0])\n",
    "    rows_B = len(B)\n",
    "    cols_B = len(B[0])\n",
    "\n",
    "    if cols_A != rows_B:\n",
    "      print(f'Размерности матриц не подходят для умножения')\n",
    "      return\n",
    "\n",
    "    C = [[0] * cols_B  for rows in range(rows_A)]\n",
    "\n",
    "    for i in range(rows_A):\n",
    "        for j in range(cols_B):\n",
    "            for k in range(cols_A):\n",
    "                C[i][j] += A[i][k] * B[k][j]\n",
    "    return C"
   ]
  },
  {
   "cell_type": "code",
   "execution_count": 102,
   "id": "328babc2",
   "metadata": {},
   "outputs": [
    {
     "data": {
      "text/plain": [
       "[[17, 18, 11], [18, 29, 4], [11, 4, 13]]"
      ]
     },
     "execution_count": 102,
     "metadata": {},
     "output_type": "execute_result"
    }
   ],
   "source": [
    "A = np.array([[4, 1], [5, -2], [2, 3]])\n",
    "B = np.array([[4, 5, 2], [1, -2, 3]])\n",
    "multiplication(A, B)"
   ]
  },
  {
   "cell_type": "code",
   "execution_count": 104,
   "id": "dfe7dbb7",
   "metadata": {},
   "outputs": [
    {
     "data": {
      "text/plain": [
       "array([[17, 18, 11],\n",
       "       [18, 29,  4],\n",
       "       [11,  4, 13]])"
      ]
     },
     "execution_count": 104,
     "metadata": {},
     "output_type": "execute_result"
    }
   ],
   "source": [
    "A @ B"
   ]
  },
  {
   "cell_type": "markdown",
   "id": "5567f84a",
   "metadata": {},
   "source": [
    "### 2.1) Вычислить определитель:"
   ]
  },
  {
   "cell_type": "markdown",
   "id": "dd762713",
   "metadata": {},
   "source": [
    "a)\n",
    "\n",
    "$\\begin{vmatrix}\n",
    "sinx & -cosx\\\\ \n",
    "cosx & sinx\n",
    "\\end{vmatrix}=\n",
    "sinxsinx+cosxcosx=\n",
    "sin^{2}x+cos^{2}x=1$"
   ]
  },
  {
   "cell_type": "markdown",
   "id": "b82c9879",
   "metadata": {},
   "source": [
    "б)\n",
    "    \n",
    "$\\begin{vmatrix}\n",
    "4 & 2 & 3\\\\ \n",
    "0 & 5 & 1\\\\ \n",
    "0 & 0 & 9\n",
    "\\end{vmatrix}=\n",
    "4*5*9=180$"
   ]
  },
  {
   "cell_type": "code",
   "execution_count": 2,
   "id": "6b6229ff",
   "metadata": {},
   "outputs": [
    {
     "data": {
      "text/plain": [
       "180.0"
      ]
     },
     "execution_count": 2,
     "metadata": {},
     "output_type": "execute_result"
    }
   ],
   "source": [
    "A = np.array([[4, 2, 3], [0, 5, 1], [0, 0, 9]])\n",
    "np.linalg.det(A)"
   ]
  },
  {
   "cell_type": "markdown",
   "id": "8bd2986c",
   "metadata": {},
   "source": [
    "в)\n",
    "\n",
    "$\\begin{vmatrix}\n",
    "1 & 2 & 3\\\\ \n",
    "4 & 5 & 6\\\\ \n",
    "7 & 8 & 9\n",
    "\\end{vmatrix}=\n",
    "1\\begin{vmatrix}\n",
    "5 & 6 \n",
    "8 & 9 \n",
    "\\end{vmatrix}\n",
    "-2\\begin{vmatrix}\n",
    "4 & 6 \n",
    "7 & 9 \n",
    "\\end{vmatrix}\n",
    "+3\\begin{vmatrix}\n",
    "4 & 5 \n",
    "7 & 8 \n",
    "\\end{vmatrix}=\n",
    "1(5*9-6*8)-2(4*9-6*7)+3(4*8-5*7)=-3+12-9=0$"
   ]
  },
  {
   "cell_type": "code",
   "execution_count": 16,
   "id": "c8972ed4",
   "metadata": {},
   "outputs": [
    {
     "data": {
      "text/plain": [
       "-9.51619735392994e-16"
      ]
     },
     "execution_count": 16,
     "metadata": {},
     "output_type": "execute_result"
    }
   ],
   "source": [
    "A = np.array([[1, 2, 3], [4, 5, 6], [7, 8, 9]])\n",
    "np.linalg.det(A)"
   ]
  },
  {
   "cell_type": "markdown",
   "id": "ae798a38",
   "metadata": {},
   "source": [
    "### 2.2) Определитель матрицы $A$ равен $4$. Найти:"
   ]
  },
  {
   "cell_type": "markdown",
   "id": "54dba00f",
   "metadata": {},
   "source": [
    "а)\n",
    "$det(A^{2})$</br>\n",
    "$det(AB)=detA\\cdot detB => det(A^{2})=detA\\cdot detA=4\\cdot4=16$"
   ]
  },
  {
   "cell_type": "markdown",
   "id": "49921a09",
   "metadata": {},
   "source": [
    "б) \n",
    "$det(A^{T})$</br>\n",
    "$detA^{T}=detA => det(A^{T}) = 4$"
   ]
  },
  {
   "cell_type": "markdown",
   "id": "b29ce19d",
   "metadata": {},
   "source": [
    "в) \n",
    "$det(2A)=4 * 2^{n}$</br>\n",
    "n = размерность матрицы"
   ]
  },
  {
   "cell_type": "markdown",
   "id": "ce679426",
   "metadata": {},
   "source": [
    "### 2.3)  Доказать, что матрица A вырожденная.\n",
    "\n",
    "$A=\\begin{pmatrix}\n",
    "-2 & 7 & -3\\\\ \n",
    "4 & -14 & 6\\\\ \n",
    "-3 & 7 & 13\n",
    "\\end{pmatrix}$\n",
    "   \n"
   ]
  },
  {
   "cell_type": "markdown",
   "id": "90f1b268",
   "metadata": {},
   "source": [
    "1 и 2 строки матрицы линейно зависимы => Определитель матрицы = 0 => матрица выроденная. "
   ]
  },
  {
   "cell_type": "code",
   "execution_count": 17,
   "id": "8fdf08f7",
   "metadata": {},
   "outputs": [
    {
     "data": {
      "text/plain": [
       "0.0"
      ]
     },
     "execution_count": 17,
     "metadata": {},
     "output_type": "execute_result"
    }
   ],
   "source": [
    "A = np.array([[-2, 7, -3], [4, -14, 6], [-3, 7, 13]])\n",
    "np.linalg.det(A)"
   ]
  },
  {
   "cell_type": "markdown",
   "id": "bc0a26fc",
   "metadata": {},
   "source": [
    "### 2.4) Найти ранг матрицы:"
   ]
  },
  {
   "cell_type": "markdown",
   "id": "7050a19b",
   "metadata": {},
   "source": [
    "а) \n",
    "\n",
    "$\\begin{pmatrix}\n",
    "1 & 2 & 3\\\\ \n",
    "1 & 1 & 1\\\\ \n",
    "2 & 3 & 4\n",
    "\\end{pmatrix}$\n",
    "\n",
    "Вторая строка является разницей третьей и первой строк, а значит, ее можно отбросить:\n",
    "\n",
    "$\\begin{pmatrix}\n",
    "1 & 2 & 3\\\\  \n",
    "2 & 3 & 4\n",
    "\\end{pmatrix}$\n",
    "\n",
    "Вычтем из второй строки первую, умноженную на  2:\n",
    "\n",
    "$\\begin{pmatrix}\n",
    "1 & 2 & 3\\\\  \n",
    "0 & -1 & -2\n",
    "\\end{pmatrix}$\n",
    "\n",
    "Таким образом, ранг матрицы равен  2"
   ]
  },
  {
   "cell_type": "code",
   "execution_count": 19,
   "id": "b1dca92d",
   "metadata": {},
   "outputs": [
    {
     "data": {
      "text/plain": [
       "2"
      ]
     },
     "execution_count": 19,
     "metadata": {},
     "output_type": "execute_result"
    }
   ],
   "source": [
    "A = np.array([[1, 2, 3], [1, 1, 1], [2, 3, 4]])\n",
    "np.linalg.matrix_rank(A)"
   ]
  },
  {
   "cell_type": "markdown",
   "id": "e1825049",
   "metadata": {},
   "source": [
    "б) \n",
    "\n",
    "$\\begin{pmatrix}\n",
    "0 & 0 & 2 & 1\\\\ \n",
    "0 & 0 & 2 & 2\\\\ \n",
    "0 & 0 & 4 & 3\\\\ \n",
    "2 & 3 & 5 & 6\n",
    "\\end{pmatrix}$\n",
    "\n",
    "Третья строка является суммой первой и второй строк, а значит, ее можно отбросить.\n",
    "Также можно переставить четвертую и первую строку местами:\n",
    "\n",
    "$\\begin{pmatrix}\n",
    "2 & 3 & 5 & 6\\\\\n",
    "0 & 0 & 2 & 2\\\\ \n",
    "0 & 0 & 2 & 1\n",
    "\\end{pmatrix}$\n",
    "\n",
    "Первый и второй столбцы также линейно зависимы, а значит можно убрать первый столбец:\n",
    "\n",
    "$\\begin{pmatrix}\n",
    "3 & 5 & 6\\\\\n",
    "0 & 2 & 2\\\\ \n",
    "0 & 2 & 1\n",
    "\\end{pmatrix}$\n",
    "\n",
    "Вычтем из третьей строки вторую:\n",
    "\n",
    "$\\begin{pmatrix}\n",
    "3 & 5 & 6\\\\\n",
    "0 & 2 & 2\\\\ \n",
    "0 & 0 & -1\n",
    "\\end{pmatrix}$\n",
    "\n",
    "Таким образом, ранг матрицы равен 3"
   ]
  },
  {
   "cell_type": "code",
   "execution_count": 20,
   "id": "1534e998",
   "metadata": {},
   "outputs": [
    {
     "data": {
      "text/plain": [
       "3"
      ]
     },
     "execution_count": 20,
     "metadata": {},
     "output_type": "execute_result"
    }
   ],
   "source": [
    "A = np.array([[0, 0, 2, 1], [0, 0, 2, 2], [0, 0, 4, 3], [2, 3, 5, 6]])\n",
    "np.linalg.matrix_rank(A)"
   ]
  }
 ],
 "metadata": {
  "kernelspec": {
   "display_name": "Python 3 (ipykernel)",
   "language": "python",
   "name": "python3"
  },
  "language_info": {
   "codemirror_mode": {
    "name": "ipython",
    "version": 3
   },
   "file_extension": ".py",
   "mimetype": "text/x-python",
   "name": "python",
   "nbconvert_exporter": "python",
   "pygments_lexer": "ipython3",
   "version": "3.9.7"
  }
 },
 "nbformat": 4,
 "nbformat_minor": 5
}
